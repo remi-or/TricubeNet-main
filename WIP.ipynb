{
 "cells": [
  {
   "cell_type": "code",
   "execution_count": null,
   "metadata": {},
   "outputs": [],
   "source": [
    "from train import setup, main"
   ]
  },
  {
   "cell_type": "code",
   "execution_count": null,
   "metadata": {},
   "outputs": [],
   "source": [
    "args = setup(\n",
    "    root='C:/Users/meri2/Documents/DOTA_1.0/split_ms_dota/',\n",
    "    classes=['plane', 'ship', 'storage tank', 'baseball diamond', 'tennis court', 'basketball court', 'ground track field', \n",
    "             'harbor', 'bridge', 'large vehicle', 'small vehicle', 'helicopter', 'roundabout', 'soccer ball field', 'swimming pool'],\n",
    "    in_size=1024,\n",
    "    batch_size=1,\n",
    "    workers=1,\n",
    "    backbone='hourglass104_MRCB_cascade',\n",
    ")"
   ]
  },
  {
   "cell_type": "code",
   "execution_count": null,
   "metadata": {},
   "outputs": [],
   "source": [
    "main(args)"
   ]
  },
  {
   "cell_type": "code",
   "execution_count": null,
   "metadata": {},
   "outputs": [],
   "source": [
    "# def load_input(path: str,\n",
    "#                indx: int) -> torch.Tensor:\n",
    "#     path = path + os.listdir(path)[indx]\n",
    "#     x_pil = Image.open(path)\n",
    "#     x_np = np.transpose(x_pil, (2, 0, 1))\n",
    "#     x_torch = torch.from_numpy(x_np).float()[None]\n",
    "#     return x_torch / 255.0\n",
    "\n",
    "# def plot_heatmaps(\n",
    "#     heatmaps: List[Tensor],\n",
    "#     classes: Optional[List[str]] = None,\n",
    "#     thr: float = 0.1,\n",
    "# ) -> None:\n",
    "\n",
    "#     buffer = []\n",
    "#     for i, heatmap in enumerate(heatmaps):\n",
    "#         if heatmap.max() >= thr:\n",
    "#             title = f\"#{i}\" if classes is None else classes[i]\n",
    "#             heatmap = heatmap.detach().clone().cpu().numpy()\n",
    "#             buffer.append((title, heatmap))\n",
    "    \n",
    "#     n = len(buffer)\n",
    "#     fig, axs = plt.subplots(n, 1, figsize=(8, 9*n))\n",
    "#     axs = axs.flatten() if isinstance(axs, np.ndarray) else [axs]\n",
    "#     kwargs = dict(cmap='jet')#, vmin=0.0, vmax=1.0)\n",
    "#     for (title, heatmap), ax in zip(buffer, axs):\n",
    "#         ax.axis('off')\n",
    "#         ax.imshow(heatmap, **kwargs)\n",
    "#         ax.set_title(title)\n",
    "\n",
    "# ##\n",
    "\n",
    "# Model = Model_factory(BACKBONE, NCLASSES)\n",
    "\n",
    "# X = load_input(DATAPATH, 0)\n",
    "\n",
    "# Y = Model(X)\n",
    "\n",
    "# ##\n",
    "\n",
    "# Z = Y[1]\n",
    "\n",
    "# plot_heatmaps(\n",
    "#     heatmaps=[Z[0, :, :, i] for i in range(15)],\n",
    "#     classes=None,\n",
    "#     thr=0.1)"
   ]
  }
 ],
 "metadata": {
  "kernelspec": {
   "display_name": "Python 3.10.4 ('mmr')",
   "language": "python",
   "name": "python3"
  },
  "language_info": {
   "codemirror_mode": {
    "name": "ipython",
    "version": 3
   },
   "file_extension": ".py",
   "mimetype": "text/x-python",
   "name": "python",
   "nbconvert_exporter": "python",
   "pygments_lexer": "ipython3",
   "version": "3.10.4"
  },
  "orig_nbformat": 4,
  "vscode": {
   "interpreter": {
    "hash": "930fcf535ec15c34b969eef2c88faff628871c292c7fc9fc90802d95a23c963b"
   }
  }
 },
 "nbformat": 4,
 "nbformat_minor": 2
}
